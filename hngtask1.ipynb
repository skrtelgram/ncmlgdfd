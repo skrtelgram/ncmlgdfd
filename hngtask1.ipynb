{
 "cells": [
  {
   "cell_type": "code",
   "execution_count": 3,
   "id": "b9dd677d",
   "metadata": {},
   "outputs": [],
   "source": [
    "slackUsername:\"m\"\n",
    "backend:True\n",
    "age:1998\n",
    "bio:\"peace in our time, imagine that\""
   ]
  },
  {
   "cell_type": "code",
   "execution_count": null,
   "id": "adad2d4c",
   "metadata": {},
   "outputs": [],
   "source": []
  }
 ],
 "metadata": {
  "kernelspec": {
   "display_name": "Python 3 (ipykernel)",
   "language": "python",
   "name": "python3"
  },
  "language_info": {
   "codemirror_mode": {
    "name": "ipython",
    "version": 3
   },
   "file_extension": ".py",
   "mimetype": "text/x-python",
   "name": "python",
   "nbconvert_exporter": "python",
   "pygments_lexer": "ipython3",
   "version": "3.9.7"
  }
 },
 "nbformat": 4,
 "nbformat_minor": 5
}
